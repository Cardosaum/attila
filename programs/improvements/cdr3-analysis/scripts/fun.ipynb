{
 "cells": [
  {
   "cell_type": "code",
   "execution_count": 3,
   "metadata": {},
   "outputs": [],
   "source": [
    "import warnings\n",
    "warnings.filterwarnings('ignore')\n",
    "\n",
    "import pandas as pd\n",
    "import numpy as np\n",
    "import hypertools as hyp\n",
    "import seaborn as sns\n",
    "from timeit import default_timer as timer\n",
    "import os\n",
    "\n",
    "sns.set(style=\"darkgrid\")\n",
    "%matplotlib inline"
   ]
  },
  {
   "cell_type": "code",
   "execution_count": 4,
   "metadata": {},
   "outputs": [
    {
     "name": "stdout",
     "output_type": "stream",
     "text": [
      "R0_VH_R1aafreq.txt\n",
      "R0_VH_S1_L001_R1_001aafreq.txt\n",
      "R0_VL_R1aafreq.txt\n",
      "R0_VL_S11_L001_R1_001aafreq.txt\n",
      "R1_S1_L001_R1_001aafreq.txt\n",
      "R1a_VH_S2_L001_R1_001aafreq.txt\n",
      "R1a_VL_S12_L001_R1_001aafreq.txt\n",
      "R1b_VH_S3_L001_R1_001aafreq.txt\n",
      "R1b_VL_S13_L001_R1_001aafreq.txt\n",
      "R2_S2_L001_R1_001aafreq.txt\n",
      "R2a_VH_S4_L001_R1_001aafreq.txt\n",
      "R2a_VL_S14_L001_R1_001aafreq.txt\n",
      "R2b_VH_S5_L001_R1_001aafreq.txt\n",
      "R2b_VL_S15_L001_R1_001aafreq.txt\n",
      "R3_S3_L001_R1_001aafreq.txt\n",
      "R3a_VH_S6_L001_R1_001aafreq.txt\n",
      "R3a_VL_S16_L001_R1_001aafreq.txt\n",
      "R3b_VH_S7_L001_R1_001aafreq.txt\n",
      "R3b_VL_S17_L001_R1_001aafreq.txt\n",
      "R4_S4_L001_R1_001aafreq.txt\n",
      "R4a_VH_S8_L001_R1_001aafreq.txt\n",
      "R4a_VL_S18_L001_R1_001aafreq.txt\n",
      "R4ac_VH_R1aafreq.txt\n",
      "R4ac_VL_R1aafreq.txt\n",
      "R4b_VH_S9_L001_R1_001aafreq.txt\n",
      "R4b_VL_S19_L001_R1_001aafreq.txt\n",
      "R4pep_VH_R1aafreq.txt\n",
      "R4pep_VL_R1aafreq.txt\n",
      "R5b_VH_S10_L001_R1_001aafreq.txt\n",
      "R5b_VL_S20_L001_R1_001aafreq.txt\n"
     ]
    }
   ],
   "source": [
    "data_path = os.path.abspath('../../../../../data/analysis/')\n",
    "files = os.listdir(data_path)\n",
    "files.sort()\n",
    "for file in files:\n",
    "    if file.startswith('R'):\n",
    "        print(file)"
   ]
  }
 ],
 "metadata": {
  "kernelspec": {
   "display_name": "Python 3",
   "language": "python",
   "name": "python3"
  },
  "language_info": {
   "codemirror_mode": {
    "name": "ipython",
    "version": 3
   },
   "file_extension": ".py",
   "mimetype": "text/x-python",
   "name": "python",
   "nbconvert_exporter": "python",
   "pygments_lexer": "ipython3",
   "version": "3.7.5"
  }
 },
 "nbformat": 4,
 "nbformat_minor": 2
}
