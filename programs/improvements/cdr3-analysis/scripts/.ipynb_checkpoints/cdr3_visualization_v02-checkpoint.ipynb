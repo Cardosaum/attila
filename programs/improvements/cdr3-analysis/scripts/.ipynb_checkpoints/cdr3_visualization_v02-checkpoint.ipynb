{
 "cells": [
  {
   "cell_type": "code",
   "execution_count": 10,
   "metadata": {},
   "outputs": [],
   "source": [
    "import warnings\n",
    "warnings.filterwarnings('ignore')"
   ]
  },
  {
   "cell_type": "code",
   "execution_count": null,
   "metadata": {},
   "outputs": [],
   "source": [
    "import pandas as pd\n",
    "import numpy as np\n",
    "import hypertools as hyp\n",
    "import seaborn as sns\n",
    "from timeit import default_timer as timer\n",
    "import os\n",
    "\n",
    "sns.set(style=\"darkgrid\")\n",
    "%matplotlib inline"
   ]
  },
  {
   "cell_type": "code",
   "execution_count": 12,
   "metadata": {},
   "outputs": [
    {
     "data": {
      "text/html": [
       "<div>\n",
       "<style scoped>\n",
       "    .dataframe tbody tr th:only-of-type {\n",
       "        vertical-align: middle;\n",
       "    }\n",
       "\n",
       "    .dataframe tbody tr th {\n",
       "        vertical-align: top;\n",
       "    }\n",
       "\n",
       "    .dataframe thead th {\n",
       "        text-align: right;\n",
       "    }\n",
       "</style>\n",
       "<table border=\"1\" class=\"dataframe\">\n",
       "  <thead>\n",
       "    <tr style=\"text-align: right;\">\n",
       "      <th></th>\n",
       "      <th>length</th>\n",
       "      <th>aromatic</th>\n",
       "      <th>positive</th>\n",
       "      <th>negative</th>\n",
       "    </tr>\n",
       "  </thead>\n",
       "  <tbody>\n",
       "    <tr>\n",
       "      <th>0</th>\n",
       "      <td>6</td>\n",
       "      <td>1</td>\n",
       "      <td>1</td>\n",
       "      <td>1</td>\n",
       "    </tr>\n",
       "    <tr>\n",
       "      <th>1</th>\n",
       "      <td>9</td>\n",
       "      <td>1</td>\n",
       "      <td>0</td>\n",
       "      <td>1</td>\n",
       "    </tr>\n",
       "    <tr>\n",
       "      <th>2</th>\n",
       "      <td>1</td>\n",
       "      <td>0</td>\n",
       "      <td>0</td>\n",
       "      <td>0</td>\n",
       "    </tr>\n",
       "    <tr>\n",
       "      <th>3</th>\n",
       "      <td>22</td>\n",
       "      <td>8</td>\n",
       "      <td>1</td>\n",
       "      <td>4</td>\n",
       "    </tr>\n",
       "    <tr>\n",
       "      <th>4</th>\n",
       "      <td>12</td>\n",
       "      <td>6</td>\n",
       "      <td>0</td>\n",
       "      <td>2</td>\n",
       "    </tr>\n",
       "  </tbody>\n",
       "</table>\n",
       "</div>"
      ],
      "text/plain": [
       "   length  aromatic  positive  negative\n",
       "0       6         1         1         1\n",
       "1       9         1         0         1\n",
       "2       1         0         0         0\n",
       "3      22         8         1         4\n",
       "4      12         6         0         2"
      ]
     },
     "execution_count": 12,
     "metadata": {},
     "output_type": "execute_result"
    }
   ],
   "source": [
    "file = 'VCL29VHR0_S1_L001_R1_001aafreq.csv'\n",
    "data = pd.read_csv(f'/home/matheus/mcs/wo/R0/Thais_29_66/{file}')\n",
    "data.head()\n",
    "df = data[['length', 'aromatic', 'positive', 'negative']]\n",
    "df.head()"
   ]
  },
  {
   "cell_type": "code",
   "execution_count": 13,
   "metadata": {},
   "outputs": [
    {
     "ename": "ValueError",
     "evalue": "'file' is not in list",
     "output_type": "error",
     "traceback": [
      "\u001b[0;31m---------------------------------------------------------------------------\u001b[0m",
      "\u001b[0;31mValueError\u001b[0m                                Traceback (most recent call last)",
      "\u001b[0;32m<ipython-input-13-e232f32761b1>\u001b[0m in \u001b[0;36m<module>\u001b[0;34m\u001b[0m\n\u001b[1;32m      3\u001b[0m \u001b[0;32mfor\u001b[0m \u001b[0mfile\u001b[0m \u001b[0;32min\u001b[0m \u001b[0mfiles\u001b[0m\u001b[0;34m:\u001b[0m\u001b[0;34m\u001b[0m\u001b[0;34m\u001b[0m\u001b[0m\n\u001b[1;32m      4\u001b[0m     \u001b[0mstart\u001b[0m \u001b[0;34m=\u001b[0m \u001b[0mtimer\u001b[0m\u001b[0;34m(\u001b[0m\u001b[0;34m)\u001b[0m\u001b[0;34m\u001b[0m\u001b[0;34m\u001b[0m\u001b[0m\n\u001b[0;32m----> 5\u001b[0;31m     \u001b[0mprint\u001b[0m\u001b[0;34m(\u001b[0m\u001b[0;34mf'\\n\\n({files.index(\"file\")}/len(files))\\tAnalizing {file}...\\n'\u001b[0m\u001b[0;34m)\u001b[0m\u001b[0;34m\u001b[0m\u001b[0;34m\u001b[0m\u001b[0m\n\u001b[0m\u001b[1;32m      6\u001b[0m     \u001b[0mdf\u001b[0m \u001b[0;34m=\u001b[0m \u001b[0mpd\u001b[0m\u001b[0;34m.\u001b[0m\u001b[0mread_csv\u001b[0m\u001b[0;34m(\u001b[0m\u001b[0;34mf'/home/matheus/mcs/wo/R0/Thais_29_66/{file}'\u001b[0m\u001b[0;34m)\u001b[0m\u001b[0;34m\u001b[0m\u001b[0;34m\u001b[0m\u001b[0m\n\u001b[1;32m      7\u001b[0m     \u001b[0msequence\u001b[0m \u001b[0;34m=\u001b[0m \u001b[0mdata\u001b[0m\u001b[0;34m.\u001b[0m\u001b[0mpop\u001b[0m\u001b[0;34m(\u001b[0m\u001b[0;34m'cdr3'\u001b[0m\u001b[0;34m)\u001b[0m\u001b[0;34m\u001b[0m\u001b[0;34m\u001b[0m\u001b[0m\n",
      "\u001b[0;31mValueError\u001b[0m: 'file' is not in list"
     ]
    }
   ],
   "source": [
    "files = ['VCL29VHR0_S1_L001_R1_001aafreq.csv', 'VCL29VHR3_S3_L001_R1_001aafreq.csv', 'VCL29VHR4_S4_L001_R1_001aafreq.csv', 'VCL66VHR3_S7_L001_R1_001aafreq.csv', 'VCL66VHR2_S6_L001_R1_001aafreq.csv', 'VCL29VHR2_S2_L001_R1_001aafreq.csv', 'VCL66VHR4_S8_L001_R1_001aafreq.csv', 'VCL66VHR0_S5_L001_R1_001aafreq.csv']\n",
    "\n",
    "for file in files:\n",
    "    start = timer()\n",
    "    print(f'\\n\\n({files.index(\"file\")}/len(files))\\tAnalizing {file}...\\n')\n",
    "    data_path = os.path.abspath('../../../../../attila_data/')\n",
    "    df = pd.read_csv(f'{data_path}{file}')\n",
    "    sequence = data.pop('cdr3')\n",
    "    data = df[['length', 'aromatic', 'positive', 'negative']]\n",
    "#     hyp.plot(data, '.', n_clusters=37)\n",
    "    cluster_labels = hyp.cluster(data, n_clusters=37) \n",
    "#     geo_ica = hyp.plot(data, '.', reduce='FastICA',  ndims=3)\n",
    "#     geo_tsne = hyp.plot(data, '.', reduce='TSNE', ndims=3)\n",
    "#     geo = hyp.plot(data, '.', group=cluster_labels, reduce='PCA', title='PCA')\n",
    "#     geo_ica.plot(group=cluster_labels, legend=None, title='ICA')\n",
    "    hyp.plot(data, '.', reduce='TSNE', ndims=3, group=cluster_labels, legend=None, title=f'TSNE - {file}')\n",
    "#     geo = hyp.plot(data, '.', reduce='PCA', title='PCA')\n",
    "#     ks = [3,6,9,12,15]\n",
    "#     for k in ks[4:]:\n",
    "#         geo.plot(n_clusters=k, title='k=' + str(k))\n",
    "#     for k in ks[4:]:\n",
    "#         geo_ica.plot(n_clusters=k, title='k=' + str(k))\n",
    "#     for k in ks[4:]:\n",
    "#         geo_tsne.plot(n_clusters=k, title='k=' + str(k))\n",
    "    print(f'\\nElapsed time for {file}: {timer()-start:0.4f}\\n\\n\\n')\n",
    "    print(\"=\"*120)"
   ]
  }
 ],
 "metadata": {
  "kernelspec": {
   "display_name": "Python 3",
   "language": "python",
   "name": "python3"
  },
  "language_info": {
   "codemirror_mode": {
    "name": "ipython",
    "version": 3
   },
   "file_extension": ".py",
   "mimetype": "text/x-python",
   "name": "python",
   "nbconvert_exporter": "python",
   "pygments_lexer": "ipython3",
   "version": "3.7.5"
  }
 },
 "nbformat": 4,
 "nbformat_minor": 4
}
